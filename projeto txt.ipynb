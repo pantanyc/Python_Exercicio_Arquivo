{
 "cells": [
  {
   "attachments": {},
   "cell_type": "markdown",
   "metadata": {},
   "source": [
    "A ACME Inc., uma empresa de 500 funcionários, está tendo problemas de espaço em disco no seu servidor de arquivos. Para tentar resolver este problema, o Administrador de Rede precisa saber qual o espaço ocupado pelos usuários, e identificar os usuários com maior espaço ocupado. Através de um programa, baixado da Internet, ele conseguiu gerar o seguinte arquivo, chamado \"usuarios.txt\":"
   ]
  },
  {
   "cell_type": "code",
   "execution_count": 17,
   "metadata": {},
   "outputs": [],
   "source": [
    "with open('usuarios.txt', 'w') as arquivo:\n",
    "    arquivo.write('alexandre       456123789 \\nanderson        1245698456 \\nantonio         123456456 \\ncarlos          91257581 \\ncesar           987458 \\nrosemary        789456125')\n",
    "    arquivo.close()\n"
   ]
  },
  {
   "attachments": {},
   "cell_type": "markdown",
   "metadata": {},
   "source": [
    "Neste arquivo, o nome do usuário possui 15 caracteres. A partir deste arquivo, você deve criar um programa que gere um relatório, chamado \"relatório.txt\".\n",
    "O arquivo de entrada deve ser lido uma única vez, e os dados armazenados em memória, caso sejam necessários, de forma a agilizar a execução do programa. \n",
    "A conversão da espaço ocupado em disco, de bytes para megabytes deverá ser feita através de uma função separada, que será chamada pelo programa principal. \n",
    "O cálculo do percentual de uso também deverá ser feito através de uma função, que será chamada pelo programa principal."
   ]
  },
  {
   "cell_type": "code",
   "execution_count": 18,
   "metadata": {},
   "outputs": [],
   "source": [
    "#lista de usuários vazia + cada linha do .txt (usuario-bytes) será seccionada em uma lista de listas, e dentro de cada lista terá usuario e seu respectivo espaço ocupado em bytes.\n",
    "usuarios = []\n",
    "with open(\"usuarios.txt\", \"r\") as arquivo:\n",
    "    for linha in arquivo:\n",
    "        usuarios.append(linha.split())"
   ]
  },
  {
   "cell_type": "code",
   "execution_count": 19,
   "metadata": {},
   "outputs": [],
   "source": [
    "#função que transforma os dados que estão em bytes para megabytes\n",
    "#1 byte são 1024 kb e 1 mb são 1024kb, ou seja, para transformar bytes em MB deve-se dividir o valor de bytes por 1024²\n",
    "\n",
    "def byteParaMB(tamanho):\n",
    "    var1 = float(tamanho)/1024**2\n",
    "    return(var1)"
   ]
  },
  {
   "cell_type": "code",
   "execution_count": 20,
   "metadata": {},
   "outputs": [],
   "source": [
    "#para cada usuario foi acrescentado o valor em MB no fim das listas individualizadas (snedo a nova ordem: usuario, bytes, MB)\n",
    "for usuario in usuarios:\n",
    "    usuario.append(byteParaMB(usuario[1]))"
   ]
  },
  {
   "cell_type": "code",
   "execution_count": 21,
   "metadata": {},
   "outputs": [],
   "source": [
    "#função para calcular a porcentagem que cada usuário ocupa do total.\n",
    "\n",
    "def porcentagem(valores):\n",
    "    total = 0\n",
    "    for n in valores:\n",
    "        total = total + n[2]\n",
    "    for n in valores:\n",
    "        n.append(n[2]*100/total)\n",
    "    media = total/len(valores)\n",
    "    return total, media"
   ]
  },
  {
   "cell_type": "code",
   "execution_count": 22,
   "metadata": {},
   "outputs": [],
   "source": [
    "total, media = porcentagem(usuarios)"
   ]
  },
  {
   "cell_type": "code",
   "execution_count": 23,
   "metadata": {},
   "outputs": [],
   "source": [
    "#Criando o arquivo relatorio.txt de acordo com o exemplo\n",
    "num = 1\n",
    "with open(\"relatorio.txt\", \"w\") as arquivo:\n",
    "    arquivo.write(\"ACME Inc.               Uso do espaço em disco pelos usuários.\\n\")\n",
    "    arquivo.write(\"--------------------------------------------------------------\\n\")\n",
    "    arquivo.write(\"Nr.\\tUsuário        \\tEspaço utilizado\\t\\t% do uso\\n\\n\")\n",
    "    for usuario in usuarios:\n",
    "        dadoMB = round(usuario[2],2)\n",
    "        arquivo.write(str(num)+'\\t'+\"{:<16}\".format(usuario[0])+'\\t'+\"{:<8}\".format(dadoMB)+\" MB\"+'\\t'+'\\t'+'\\t'+'\\t'+\"{0:.2f}\".format(usuario[3])+'%'+'\\n')\n",
    "        num = num + 1\n",
    "    arquivo.write('\\n\\nEspaço Total Ocupado: ' + \"{0:.2f}\".format(total) + ' MB')\n",
    "    arquivo.write('\\n\\nEspaço médio Ocupado: ' + \"{0:.2f}\".format(media) + ' MB')"
   ]
  },
  {
   "cell_type": "code",
   "execution_count": null,
   "metadata": {},
   "outputs": [],
   "source": []
  }
 ],
 "metadata": {
  "kernelspec": {
   "display_name": "Python 3",
   "language": "python",
   "name": "python3"
  },
  "language_info": {
   "codemirror_mode": {
    "name": "ipython",
    "version": 3
   },
   "file_extension": ".py",
   "mimetype": "text/x-python",
   "name": "python",
   "nbconvert_exporter": "python",
   "pygments_lexer": "ipython3",
   "version": "3.11.1"
  },
  "orig_nbformat": 4,
  "vscode": {
   "interpreter": {
    "hash": "ec209ac929dcb624c7f6ee351ef0b875c32411e307f0e21a721e661affe60714"
   }
  }
 },
 "nbformat": 4,
 "nbformat_minor": 2
}
